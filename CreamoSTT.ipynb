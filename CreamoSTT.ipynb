{
  "cells": [
    {
      "cell_type": "markdown",
      "metadata": {
        "id": "view-in-github",
        "colab_type": "text"
      },
      "source": [
        "<a href=\"https://colab.research.google.com/github/jisally/CreamoSTT/blob/main/CreamoSTT.ipynb\" target=\"_parent\"><img src=\"https://colab.research.google.com/assets/colab-badge.svg\" alt=\"Open In Colab\"/></a>"
      ]
    },
    {
      "cell_type": "markdown",
      "metadata": {
        "id": "jNGMccoHFpoD"
      },
      "source": [
        "#mp4(영상)을 mp3(음성)을 변환"
      ]
    },
    {
      "cell_type": "code",
      "execution_count": null,
      "metadata": {
        "id": "Iqnlh0Qp-MoR"
      },
      "outputs": [],
      "source": [
        "from google.colab import drive\n",
        "drive.mount('/content/drive')"
      ]
    },
    {
      "cell_type": "code",
      "execution_count": null,
      "metadata": {
        "id": "V_DlFnKPffwg"
      },
      "outputs": [],
      "source": [
        "!pip install pydub"
      ]
    },
    {
      "cell_type": "code",
      "execution_count": null,
      "metadata": {
        "id": "cXhEnyW9jZJg"
      },
      "outputs": [],
      "source": [
        "!apt install ffmpeg\n"
      ]
    },
    {
      "cell_type": "code",
      "execution_count": null,
      "metadata": {
        "id": "KzLZz-G5jkat"
      },
      "outputs": [],
      "source": [
        "from pydub import AudioSegment\n",
        "import os\n",
        "\n",
        "def mp4_to_mp3(input_path, output_path, bitrate='128k'):\n",
        "    # MP4 파일을 AudioSegment로 로드합니다.\n",
        "    audio = AudioSegment.from_file(input_path, format=\"mp4\")\n",
        "\n",
        "    # MP3로 저장합니다.\n",
        "    audio.export(output_path, format=\"mp3\", bitrate=bitrate)\n",
        "\n",
        "# Input and Output directories\n",
        "input_folder = '/content/drive/MyDrive/ColabNotebooks/video'\n",
        "output_folder = '/content/drive/MyDrive/ColabNotebooks/audio'\n",
        "\n",
        "# Create the output folder if it doesn't exist\n",
        "if not os.path.exists(output_folder):\n",
        "    os.makedirs(output_folder)\n",
        "\n",
        "# Get a list of all .mp4 files in the input_folder\n",
        "mp4_files = [file for file in os.listdir(input_folder) if file.endswith('.mp4')]\n",
        "\n",
        "# Convert each .mp4 file to .mp3 and save in the output folder\n",
        "for mp4_file in mp4_files:\n",
        "    input_mp4_file = os.path.join(input_folder, mp4_file)\n",
        "    output_mp3_file = os.path.join(output_folder, f\"{mp4_file[:-4]}.mp3\")\n",
        "    mp4_to_mp3(input_mp4_file, output_mp3_file)\n"
      ]
    },
    {
      "cell_type": "markdown",
      "source": [
        "#텍스트 추출"
      ],
      "metadata": {
        "id": "oLPM8N0Ys78v"
      }
    },
    {
      "cell_type": "code",
      "execution_count": null,
      "metadata": {
        "id": "QOG1D59XkMVZ"
      },
      "outputs": [],
      "source": [
        "!pip install -U stable-ts\n",
        "\n",
        "!pip install -U git+https://github.com/jianfch/stable-ts.git\n"
      ]
    },
    {
      "cell_type": "code",
      "execution_count": null,
      "metadata": {
        "id": "1FT9JgvvdhM2"
      },
      "outputs": [],
      "source": [
        "import os\n",
        "import stable_whisper\n",
        "model = stable_whisper.load_model('large')\n",
        "\n",
        "# 경로 변경\n",
        "audio_folder = '/content/drive/MyDrive/ColabNotebooks/audio/'\n",
        "\n",
        "# audio 폴더에서 .mp3 파일 찾기\n",
        "mp3_files = [file for file in os.listdir(audio_folder) if os.path.splitext(file)[1] == '.mp3']\n",
        "\n",
        "# 각 파일에 대해 모델 실행\n",
        "for filename in mp3_files:\n",
        "    audio_path = os.path.join(audio_folder, filename)\n",
        "    result = model.transcribe(audio_path)\n",
        "    result.to_srt_vtt('audio.vtt', segment_level=True, word_level=False)"
      ]
    },
    {
      "cell_type": "code",
      "execution_count": null,
      "metadata": {
        "id": "PMTf9nugMxxB"
      },
      "outputs": [],
      "source": [
        "import os\n",
        "\n",
        "# Get a list of all .vtt files in the /content directory\n",
        "vtt_files = [file for file in os.listdir('/content') if file.endswith('.vtt')]\n",
        "\n",
        "# Create the 'timeline' folder if it doesn't exist\n",
        "output_folder = '/content/drive/MyDrive/ColabNotebooks/timeline'\n",
        "if not os.path.exists(output_folder):\n",
        "    os.makedirs(output_folder)\n",
        "\n",
        "for vtt_file in vtt_files:\n",
        "    input_vtt_file_path = os.path.join('/content', vtt_file)\n",
        "    output_file_path = os.path.join(output_folder, f\"{mp4_file[:-4]}.txt\")\n",
        "\n",
        "    with open(input_vtt_file_path, 'r') as input_file:\n",
        "        vtt_content = input_file.read()\n",
        "\n",
        "    with open(output_file_path, 'w') as output_file:\n",
        "        output_file.write(vtt_content)\n"
      ]
    },
    {
      "cell_type": "markdown",
      "metadata": {
        "id": "n-W-bT06y06H"
      },
      "source": [
        "#맞춤법 검사"
      ]
    },
    {
      "cell_type": "code",
      "execution_count": null,
      "metadata": {
        "id": "n5q2w3Psy2es"
      },
      "outputs": [],
      "source": [
        "!git clone https://github.com/ssut/py-hanspell.git"
      ]
    },
    {
      "cell_type": "code",
      "execution_count": null,
      "metadata": {
        "id": "MVfBfE3vy5K_"
      },
      "outputs": [],
      "source": [
        "cd /content/py-hanspell"
      ]
    },
    {
      "cell_type": "code",
      "execution_count": null,
      "metadata": {
        "id": "XY2p2QDiy6Uo"
      },
      "outputs": [],
      "source": [
        "!python /content/py-hanspell/setup.py install"
      ]
    },
    {
      "cell_type": "code",
      "execution_count": null,
      "metadata": {
        "id": "8Y6_JkWoy638"
      },
      "outputs": [],
      "source": [
        "cd /content/drive/MyDrive/ColabNotebooks"
      ]
    },
    {
      "cell_type": "code",
      "execution_count": null,
      "metadata": {
        "id": "5EkSNF3Jy8tl"
      },
      "outputs": [],
      "source": [
        "!pip install konlpy"
      ]
    },
    {
      "cell_type": "code",
      "execution_count": null,
      "metadata": {
        "id": "Nn6zTIWhy9rH"
      },
      "outputs": [],
      "source": [
        "import chardet\n",
        "import textwrap\n",
        "import os\n",
        "import sys\n",
        "\n",
        "# 'py-hanspell' 모듈의 경로 추가\n",
        "py_hanspell_path = \"/content/py-hanspell\"  # 'py-hanspell'의 실제 경로로 수정해야 합니다.\n",
        "sys.path.append(py_hanspell_path)\n",
        "\n",
        "# 이후 hanspell 모듈을 사용하는 부분은 그대로 사용하면 됩니다.\n",
        "from hanspell import spell_checker\n"
      ]
    },
    {
      "cell_type": "code",
      "execution_count": null,
      "metadata": {
        "id": "6UaOM4PkzIft"
      },
      "outputs": [],
      "source": [
        "import chardet\n",
        "import textwrap\n",
        "import os\n",
        "\n",
        "# 맞춤법 검사 함수\n",
        "def check_spell_and_save(input_file_path):\n",
        "    # 맞춤법 검사 및 수정된 문장 저장할 변수\n",
        "    checked_sentences = []\n",
        "\n",
        "    # 파일 열기\n",
        "    with open(input_file_path, 'rb') as f:\n",
        "        # 파일 내용 읽기\n",
        "        rawdata = f.read()\n",
        "\n",
        "    # 파일 인코딩 감지\n",
        "    result = chardet.detect(rawdata)\n",
        "    encoding = result['encoding']\n",
        "\n",
        "    with open(input_file_path, 'r', encoding=encoding) as input_file:\n",
        "        original_text = input_file.readlines()\n",
        "\n",
        "    # 원본 텍스트를 500자씩 나누어 맞춤법 검사 및 수정 수행\n",
        "    for line in original_text:\n",
        "        line = line.strip()  # 줄바꿈 제거\n",
        "        chunks = textwrap.wrap(line, width=500)\n",
        "        for chunk in chunks:\n",
        "            spelled_sent = spell_checker.check(chunk)\n",
        "            checked_sentence = spelled_sent.checked\n",
        "            checked_sentences.append(checked_sentence)\n",
        "\n",
        "    # 수정된 문장을 출력 파일로 저장\n",
        "    with open(input_file_path, 'w', encoding=encoding) as output_file:\n",
        "        for checked_sentence in checked_sentences:\n",
        "            output_file.write(checked_sentence + '\\n')\n",
        "\n",
        "if __name__ == \"__main__\":\n",
        "    colab_notebooks_folder = \"/content/drive/MyDrive/ColabNotebooks\"  # 'Colab Notebooks' 폴더의 경로\n",
        "    time_folder = os.path.join(colab_notebooks_folder, \"timeline\")  # 'timeline' 폴더의 경로\n",
        "\n",
        "    # 'timeline' 폴더에 있는 파일들 맞춤법 검사\n",
        "    for file in os.listdir(time_folder):\n",
        "        if file.endswith(\".txt\"):\n",
        "            file_path = os.path.join(time_folder, file)\n",
        "            check_spell_and_save(file_path)\n"
      ]
    },
    {
      "cell_type": "markdown",
      "metadata": {
        "id": "3YlewJAoGQlS"
      },
      "source": [
        "#음성파일을 timestamp 에 맞게 분할"
      ]
    },
    {
      "cell_type": "code",
      "execution_count": null,
      "metadata": {
        "id": "AiweBuzGGUNE"
      },
      "outputs": [],
      "source": [
        "import os\n",
        "import re\n",
        "from pydub import AudioSegment\n",
        "from datetime import datetime, timedelta"
      ]
    },
    {
      "cell_type": "code",
      "execution_count": null,
      "metadata": {
        "id": "zEcT9pGtGXjj"
      },
      "outputs": [],
      "source": [
        "def str_to_milliseconds(time_str: str):\n",
        "    dt = datetime.strptime(time_str, \"%H:%M:%S.%f\")\n",
        "    milliseconds = int((dt - datetime(1900, 1, 1)).total_seconds() * 1000)\n",
        "    return milliseconds\n",
        "\n",
        "def extract_segment_from_audio_file(audio_file: str, start_time: str, end_time: str):\n",
        "    audio = AudioSegment.from_mp3(audio_file)\n",
        "\n",
        "    start_time_milliseconds = str_to_milliseconds(start_time)\n",
        "    end_time_milliseconds = str_to_milliseconds(end_time)\n",
        "\n",
        "    audio_segment = audio[start_time_milliseconds:end_time_milliseconds]\n",
        "\n",
        "    return audio_segment\n",
        "\n",
        "def get_time_ranges_from_file(file_path):\n",
        "    time_ranges = []\n",
        "    with open(file_path, 'r', encoding='utf-8') as file:\n",
        "        content = file.read()\n",
        "        matches = re.findall(r'(\\d{2}:\\d{2}:\\d{2}\\.\\d{3}) --> (\\d{2}:\\d{2}:\\d{2}\\.\\d{3})', content)\n",
        "        for start_time, end_time in matches:\n",
        "            start_time += '000'\n",
        "            end_time += '000'\n",
        "            time_ranges.append((start_time, end_time))\n",
        "\n",
        "    return time_ranges\n",
        "\n",
        "# def read_file(file_path):\n",
        "#     with open(file_path, 'r', encoding='utf-8') as f:\n",
        "#         lines = f.readlines()\n",
        "#     return lines\n",
        "\n",
        "# def write_file(file_path, lines):\n",
        "#     with open(file_path, 'w', encoding='utf-8') as f:\n",
        "#         for line in lines:\n",
        "#             f.write(line)\n",
        "\n",
        "# def is_english_line(line):\n",
        "#     return bool(re.search('[a-zA-Z]', line))"
      ]
    },
    {
      "cell_type": "code",
      "execution_count": null,
      "metadata": {
        "id": "BOjLGhjPGgLi"
      },
      "outputs": [],
      "source": [
        "# 경로 변경\n",
        "input_audio_folder = \"audio\"\n",
        "timeline_folder = 'timeline'\n",
        "\n",
        "# audio & timeline 폴더에서 파일 찾기\n",
        "mp3_files = [file for file in os.listdir(input_audio_folder) if os.path.splitext(file)[1] == '.mp3']\n",
        "txt_files = [file for file in os.listdir(timeline_folder) if os.path.splitext(file)[1] == '.txt']\n",
        "\n",
        "# 파일 경로 생성\n",
        "input_audio_file_paths = [os.path.join(input_audio_folder, file) for file in mp3_files]\n",
        "timeline_file_paths = [os.path.join(timeline_folder, file) for file in txt_files]\n",
        "\n",
        "output_folder = \"speaker_test\"\n",
        "if not os.path.exists(output_folder):\n",
        "    os.mkdir(output_folder)"
      ]
    },
    {
      "cell_type": "code",
      "source": [
        "for tl_path, audio_path in zip(timeline_file_paths, input_audio_file_paths):\n",
        "\n",
        "    time_ranges = get_time_ranges_from_file(tl_path)\n",
        "\n",
        "    for i, (start_time, end_time) in enumerate(time_ranges):\n",
        "        audio_segment = extract_segment_from_audio_file(audio_path, start_time, end_time)\n",
        "\n",
        "        output_file_name = f\"output_{i+1:04d}.mp3\"\n",
        "        output_file_path = os.path.join(output_folder, output_file_name)\n",
        "\n",
        "        audio_segment.export(output_file_path, format=\"mp3\")\n"
      ],
      "metadata": {
        "id": "KJYQ_TLr46bU"
      },
      "execution_count": null,
      "outputs": []
    },
    {
      "cell_type": "code",
      "execution_count": null,
      "metadata": {
        "id": "zWsKtgusG-3T"
      },
      "outputs": [],
      "source": [
        "# for tl_path, audio_path in zip(timeline_file_paths, input_audio_file_paths):\n",
        "#     lines = read_file(tl_path)\n",
        "#     filtered_lines = []\n",
        "#     skip_next_lines = 0\n",
        "\n",
        "#     for i, line in enumerate(lines):\n",
        "#         if skip_next_lines > 0:\n",
        "#             skip_next_lines -= 1\n",
        "#             continue\n",
        "#         elif is_english_line(line) and i > 0:  # i > 0는 첫 번째 문장 예외를 처리합니다.\n",
        "#             skip_next_lines = 1  # 영어 문장 포함된 다음 타임스탬프 건너뛰기\n",
        "#         else:\n",
        "#             filtered_lines.append(line)\n",
        "\n",
        "#     write_file(tl_path, filtered_lines)\n",
        "\n",
        "#     time_ranges = get_time_ranges_from_file(tl_path)\n",
        "\n",
        "#     for i, (start_time, end_time) in enumerate(time_ranges):\n",
        "#         audio_segment = extract_segment_from_audio_file(audio_path, start_time, end_time)\n",
        "\n",
        "#         output_file_name = f\"output_{i+1:04d}.mp3\"\n",
        "#         output_file_path = os.path.join(output_folder, output_file_name)\n",
        "\n",
        "#         audio_segment.export(output_file_path, format=\"mp3\")\n"
      ]
    },
    {
      "cell_type": "markdown",
      "metadata": {
        "id": "1gSv7LpmSgOg"
      },
      "source": [
        "#teacher/student 구분"
      ]
    },
    {
      "cell_type": "code",
      "execution_count": null,
      "metadata": {
        "id": "Z8ri0E0DSiY_"
      },
      "outputs": [],
      "source": [
        "import os\n",
        "import librosa\n",
        "import pandas as pd\n",
        "import numpy as np\n",
        "from sklearn.model_selection import train_test_split\n",
        "from sklearn.preprocessing import LabelEncoder\n",
        "from sklearn.ensemble import RandomForestClassifier\n",
        "from sklearn.metrics import classification_report\n",
        "from shutil import move  # 파일 이동을 위한 shutil 모듈\n",
        "from sklearn.metrics import accuracy_score"
      ]
    },
    {
      "cell_type": "code",
      "execution_count": null,
      "metadata": {
        "id": "kDfXcqZ8Si6p"
      },
      "outputs": [],
      "source": [
        "current_directory = os.getcwd()\n",
        "filename = \"speakerlabel.xlsx\"\n",
        "\n",
        "\n",
        "\n",
        "file_path = os.path.join(current_directory, filename)\n",
        "data = pd.read_excel(file_path, engine='openpyxl')\n"
      ]
    },
    {
      "cell_type": "code",
      "execution_count": null,
      "metadata": {
        "id": "CwTEQpWQSsqn"
      },
      "outputs": [],
      "source": [
        "def extract_mfcc(file_path, duration=2):\n",
        "    try:\n",
        "        y, sr = librosa.load(file_path, duration=duration)\n",
        "        mfcc = librosa.feature.mfcc(y=y, sr=sr)\n",
        "        return mfcc.mean(axis=1)\n",
        "    except Exception as e:\n",
        "        print(f\"Error: {e}\")\n",
        "        return None\n",
        "\n",
        "features, labels = [], []\n",
        "\n",
        "for index, row in data.iterrows():\n",
        "\n",
        "    speaker_learn_folder=os.path.join(current_directory, 'speaker_learn')\n",
        "\n",
        "    file_path = os.path.join(speaker_learn_folder, row[\"file_name\"] + \".mp3\")\n",
        "\n",
        "    speaker = row[\"speaker\"]\n",
        "    mfcc = extract_mfcc(file_path)\n",
        "\n",
        "    if mfcc is not None:\n",
        "        features.append(mfcc)\n",
        "        labels.append(speaker)\n",
        "\n",
        "features = np.array(features)\n",
        "le = LabelEncoder()\n",
        "labels = le.fit_transform(labels)\n",
        "\n",
        "\n",
        "X_train, X_test, y_train, y_test = train_test_split(features, labels, test_size=0.2, random_state=42)\n",
        "\n",
        "clf = RandomForestClassifier(n_estimators=77, random_state=42)\n",
        "\n",
        "\n",
        "clf.fit(X_train, y_train)\n",
        "\n",
        "\n",
        "y_pred = clf.predict(X_test)\n",
        "print(classification_report(y_test, y_pred, target_names=le.classes_))\n",
        "\n",
        "print('예측 정확도: {:.4f}'.format(accuracy_score(y_test,y_pred)))\n"
      ]
    },
    {
      "cell_type": "code",
      "execution_count": null,
      "metadata": {
        "id": "Jt74ZYXlS2lx"
      },
      "outputs": [],
      "source": [
        "#예측 정확도\n",
        "def predict_speaker(audio_file):\n",
        "    file_path = audio_file\n",
        "    mfcc = extract_mfcc(file_path)\n",
        "\n",
        "    if mfcc is not None:\n",
        "        feature = np.array([mfcc])\n",
        "        prediction = clf.predict(feature)\n",
        "        prediction_proba = clf.predict_proba(feature)[0]\n",
        "\n",
        "        predicted_label = le.inverse_transform(prediction)[0]\n",
        "        label_probabilities = dict(zip(le.classes_, prediction_proba))\n",
        "        return predicted_label, label_probabilities\n",
        "    else:\n",
        "        return None, None\n"
      ]
    },
    {
      "cell_type": "code",
      "execution_count": null,
      "metadata": {
        "id": "v2sCfullS7eZ"
      },
      "outputs": [],
      "source": [
        "# 주어진 speaker_test 폴더 내의 모든 mp3 파일에 대해 처리\n",
        "source_folder = \"speaker_test\"\n",
        "\n",
        "\n",
        "for file_name in os.listdir(source_folder):\n",
        "    if file_name.endswith(\".mp3\"):\n",
        "        file_path = os.path.join(source_folder, file_name)\n",
        "        predicted_speaker, speaker_probabilities = predict_speaker(file_path)\n",
        "        print(f\"Predicted speaker for {file_name}: {predicted_speaker}\")\n",
        "\n",
        "        #예측 정확도\n",
        "        for label, probability in speaker_probabilities.items():\n",
        "            print(f\"Probability of {label}: {probability * 100:.2f}%\")\n",
        "\n",
        "\n",
        "        # 예측된 스피커에 따라 폴더 생성 및 파일 이동\n",
        "        target_folder = os.path.join(source_folder, predicted_speaker)\n",
        "        os.makedirs(target_folder, exist_ok=True)\n",
        "        target_file_path = os.path.join(target_folder, file_name)\n",
        "        move(file_path, target_file_path)\n",
        "        print(f\"Moved {file_name} to {target_folder}\")\n",
        "\n",
        "\n",
        "\n",
        "\n"
      ]
    },
    {
      "cell_type": "code",
      "execution_count": null,
      "metadata": {
        "id": "i_H7devgUNrW"
      },
      "outputs": [],
      "source": [
        "import os\n",
        "\n",
        "speaker_test_folder = \"speaker_test\"\n",
        "timeline_folder = \"timeline\"\n",
        "\n",
        "if not os.path.exists(timeline_folder):\n",
        "    os.makedirs(timeline_folder)\n",
        "\n",
        "teacher_folder = os.path.join(speaker_test_folder, \"teacher\")\n",
        "student_folder = os.path.join(speaker_test_folder, \"student\")\n",
        "\n",
        "if not os.path.exists(teacher_folder):\n",
        "    os.makedirs(teacher_folder)\n",
        "\n",
        "if not os.path.exists(student_folder):\n",
        "    os.makedirs(student_folder)\n",
        "\n",
        "teacher_files = [file for file in os.listdir(teacher_folder) if file.startswith(\"output_\")]\n",
        "student_files = [file for file in os.listdir(student_folder) if file.startswith(\"output_\")]\n",
        "\n",
        "# Read specified lines from the source file.\n",
        "def read_lines_from_file(file_path, lines_to_read):\n",
        "    with open(file_path, 'r', encoding='utf-8') as f:\n",
        "        content = f.readlines()\n",
        "    return [content[index] for index in lines_to_read]\n",
        "\n",
        "# Write lines to the specified file.\n",
        "def write_lines_to_file(file_path, lines):\n",
        "    with open(file_path, 'a', encoding='utf-8') as f:\n",
        "        for line in lines:\n",
        "            f.write(line)\n",
        "\n",
        "# Copy specified lines from a source file to a destination file.\n",
        "def copy_lines_to_file(source_file, target_file, lines):\n",
        "    with open(source_file, 'r', encoding='utf-8') as source:\n",
        "        content = source.readlines()\n",
        "        with open(target_file, 'a', encoding='utf-8') as target:\n",
        "            for line_num in lines:\n",
        "                target.write(content[line_num -1])\n",
        "\n",
        "txt_files = [file for file in os.listdir(timeline_folder) if file.endswith(\".txt\")]\n",
        "source_file_path = os.path.join(timeline_folder, txt_files[0])\n",
        "\n",
        "with open(os.path.join(timeline_folder, \"teacher.txt\"), \"w\", encoding='utf-8') as f:\n",
        "    pass\n",
        "\n",
        "with open(os.path.join(timeline_folder, \"student.txt\"), \"w\", encoding='utf-8') as f:\n",
        "    pass\n",
        "\n",
        "for teacher_file in teacher_files:\n",
        "    file_number = teacher_file.split('_')[1].split('.')[0]  # Extract the numeric part from the filename\n",
        "    source_lines = [(int(file_number) * 2) , (int(file_number) * 2) +1]\n",
        "    copy_lines_to_file(source_file_path, os.path.join(timeline_folder, \"teacher.txt\"), source_lines)\n",
        "\n",
        "for student_file in student_files:\n",
        "    file_number = student_file.split('_')[1].split('.')[0]  # Extract the numeric part from the filename\n",
        "    source_lines = [(int(file_number) * 2) , (int(file_number) * 2) + 1]\n",
        "    copy_lines_to_file(source_file_path, os.path.join(timeline_folder, \"student.txt\"), source_lines)\n"
      ]
    },
    {
      "cell_type": "markdown",
      "metadata": {
        "id": "aCxwO7evlpa5"
      },
      "source": [
        "#폴더정리"
      ]
    },
    {
      "cell_type": "code",
      "execution_count": null,
      "metadata": {
        "id": "kenpgPoDlrkB"
      },
      "outputs": [],
      "source": [
        "import os\n",
        "import shutil\n",
        "\n",
        "new_folder_name = mp4_file[:-4]\n",
        "\n",
        "# 새 폴더 생성\n",
        "if not os.path.exists(new_folder_name):\n",
        "    os.makedirs(new_folder_name)\n",
        "\n",
        "folders_to_move = ['audio', 'speaker_test', 'timeline']\n",
        "\n",
        "for folder in folders_to_move:\n",
        "    current_folder_path = os.path.join(os.getcwd(), folder)\n",
        "    new_folder_path = os.path.join(os.getcwd(), new_folder_name, folder)\n",
        "\n",
        "    if os.path.exists(current_folder_path):\n",
        "        shutil.move(current_folder_path, new_folder_path)\n",
        "        print(f\"'{folder}' 폴더를 '{new_folder_name}' 폴더로 옮겼습니다.\")\n",
        "    else:\n",
        "        print(f\"'{folder}' 폴더가 현재 디렉토리에 없습니다.\")\n"
      ]
    },
    {
      "cell_type": "code",
      "source": [
        "#video 폴더 초기화\n",
        "\n",
        "video_folder = './video'\n",
        "\n",
        "#video폴더 내의 모든 파일 삭제\n",
        "for file in os.listdir(video_folder):\n",
        "    file_path = os.path.join(video_folder, file)\n",
        "    if os.path.isfile(file_path):\n",
        "        os.remove(file_path)"
      ],
      "metadata": {
        "id": "7-ZNDSYVOsGo"
      },
      "execution_count": null,
      "outputs": []
    },
    {
      "cell_type": "markdown",
      "metadata": {
        "id": "7F7gcswTqj21"
      },
      "source": [
        "#데이터셋 만들기"
      ]
    },
    {
      "cell_type": "code",
      "execution_count": null,
      "metadata": {
        "id": "DNqKoFrqz6V0"
      },
      "outputs": [],
      "source": [
        "# import pandas as pd\n",
        "# import numpy as np\n",
        "# import IPython.display as ipd\n"
      ]
    },
    {
      "cell_type": "code",
      "execution_count": null,
      "metadata": {
        "id": "OfXUEQQC1p7g"
      },
      "outputs": [],
      "source": [
        "# !pip install webvtt-py"
      ]
    },
    {
      "cell_type": "code",
      "execution_count": null,
      "metadata": {
        "id": "Zf0Znj7PvkxS"
      },
      "outputs": [],
      "source": []
    },
    {
      "cell_type": "code",
      "execution_count": null,
      "metadata": {
        "id": "_m2D39Xrvk2W"
      },
      "outputs": [],
      "source": [
        "# import pandas as pd\n",
        "# import numpy as np\n",
        "# import IPython.display as ipd\n",
        "\n",
        "\n",
        "# import os\n",
        "# import numpy as np\n",
        "# import pandas as pd\n",
        "# import librosa\n",
        "# import webvtt\n",
        "# from IPython.display import display, Audio\n",
        "\n",
        "# # 시간 표시를 초로 변환하는 함수\n",
        "# def simple_hms(s):\n",
        "#     h, m, sec = [float(x) for x in s.split(':')]\n",
        "#     return 3600 * h + 60 * m + sec\n",
        "\n",
        "\n",
        "# # 모든 .vtt 파일 불러오기\n",
        "# vtt_files = [file for file in os.listdir('/content/') if file.endswith('.vtt')]\n",
        "\n",
        "# # 결과를 저장할 DataFrame 생성\n",
        "# df = pd.DataFrame(columns=['start', 'end', 'text'])\n",
        "\n",
        "# # 모든 .vtt 파일에 대해 반복\n",
        "# for vtt_file in vtt_files:\n",
        "#     transcript = webvtt.read('/content/' + vtt_file)\n",
        "\n",
        "#     # 자막 파일의 내용을 DataFrame에 추가\n",
        "#     for x in transcript:\n",
        "#         df = df.append({'start': x.start, 'end': x.end, 'text': x.text}, ignore_index=True)\n",
        "\n",
        "# # 시간 정보를 초로 변환하여 새로운 열로 추가\n",
        "# df['start_s'] = df['start'].apply(simple_hms)\n",
        "# df['end_s'] = df['end'].apply(simple_hms)\n",
        "# df.head()"
      ]
    },
    {
      "cell_type": "code",
      "execution_count": null,
      "metadata": {
        "id": "odZcNRcs-6-I"
      },
      "outputs": [],
      "source": []
    },
    {
      "cell_type": "markdown",
      "metadata": {
        "id": "JZur1F6v_KiI"
      },
      "source": [
        "#유사도 검사"
      ]
    },
    {
      "cell_type": "code",
      "execution_count": null,
      "metadata": {
        "id": "jin5W5Pv_Lvw"
      },
      "outputs": [],
      "source": [
        "# !pip install konlpy"
      ]
    },
    {
      "cell_type": "code",
      "execution_count": null,
      "metadata": {
        "id": "3IZHWEmoBxFq"
      },
      "outputs": [],
      "source": [
        "# import os\n",
        "# import numpy as np\n",
        "# import pandas as pd\n",
        "# import librosa\n",
        "# import webvtt\n",
        "# from IPython.display import display, Audio\n",
        "# from konlpy.tag import Okt\n",
        "# from gensim.models import Word2Vec\n",
        "# from gensim.matutils import unitvec\n",
        "\n",
        "# # Function to preprocess text and return nouns\n",
        "# def get_nouns(text):\n",
        "#     okt = Okt()\n",
        "#     nouns = okt.nouns(text)\n",
        "#     return nouns\n",
        "\n",
        "# # Function to train Word2Vec model\n",
        "# def train_word2vec_model(sentences):\n",
        "#     model = Word2Vec(sentences, vector_size=100, window=5, min_count=4, workers=4)\n",
        "#     return model\n",
        "\n",
        "# # Function to calculate cosine similarity between two vectors\n",
        "# def cosine_similarity(v1, v2):\n",
        "#     return np.dot(unitvec(v1), unitvec(v2))\n",
        "\n",
        "\n",
        "# # 한국어 형태소 분석기 생성\n",
        "# okt = Okt()\n",
        "\n",
        "# # 'text' 열의 각 문장에서 단어 추출하여 리스트에 저장\n",
        "# noun_sentences = [get_nouns(sentence) for sentence in df['text']]\n",
        "\n",
        "# # Train Word2Vec model\n",
        "# word2vec_model = train_word2vec_model(noun_sentences)\n",
        "\n",
        "# # 사용자에게 입력 가능한 단어 리스트 출력\n",
        "# print(\"사용자가 입력할 수 있는 단어 리스트:\")\n",
        "# available_words = list(word2vec_model.wv.index_to_key)\n",
        "# for index, word in enumerate(available_words, 1):\n",
        "#     print(f\"{index}. {word}\")\n",
        "\n",
        "# # 사용자에게 단어 입력 받기\n",
        "# user_word_index = int(input(\"단어를 입력하세요 (번호로 입력): \"))\n",
        "\n",
        "# if 1 <= user_word_index <= len(available_words):\n",
        "#     user_word = available_words[user_word_index - 1]\n",
        "#     user_word_vector = word2vec_model.wv[user_word]\n",
        "\n",
        "#     # Calculate and display similar words using Word2Vec model and cosine similarity\n",
        "#     similar_words = []\n",
        "#     for word in word2vec_model.wv.index_to_key:\n",
        "#         if word != user_word:\n",
        "#             similarity = cosine_similarity(user_word_vector, word2vec_model.wv[word])\n",
        "#             similar_words.append((word, similarity))\n",
        "\n",
        "#     num = 0\n",
        "#     similar_words.sort(key=lambda x: x[1], reverse=True)\n",
        "#     print(f\"'{user_word}'와 가장 유사한 Top 5:\")\n",
        "#     for word, similarity_score in similar_words[:5]:\n",
        "#         num += 1\n",
        "#         print(f\"{num}. {word} (유사도: {similarity_score:.3f})\")\n",
        "# else:\n",
        "#     print(\"유효하지 않은 번호입니다. 다시 실행해주세요.\")\n"
      ]
    },
    {
      "cell_type": "markdown",
      "metadata": {
        "id": "g4DlVLxMGza9"
      },
      "source": [
        "#빈도 시각화(word cloud)"
      ]
    },
    {
      "cell_type": "code",
      "execution_count": null,
      "metadata": {
        "id": "1GmHhybXG1J8"
      },
      "outputs": [],
      "source": [
        "# !pip install wordcloud\n"
      ]
    },
    {
      "cell_type": "code",
      "execution_count": null,
      "metadata": {
        "id": "-EmS2oicDlII"
      },
      "outputs": [],
      "source": [
        "# from collections import Counter\n",
        "# from wordcloud import WordCloud"
      ]
    },
    {
      "cell_type": "code",
      "execution_count": null,
      "metadata": {
        "id": "B-_P5nnzDlM9"
      },
      "outputs": [],
      "source": [
        "# # 불용어 리스트를 생성합니다.\n",
        "# stopwords = ['의','가','이','은','들','는','좀','잘','걍','과','도','를','으로','자','에','와','한','하다', '또', '거', '게', '이이', '요', '다가', '오', '오오', '잉', '더', '저', '것', '걸', '개', '고', '거', '것']\n",
        "\n",
        "# # 불용어를 제거한 명사들을 저장할 리스트를 생성합니다.\n",
        "# filtered_nouns = [word for sentence in df['text'] for word, pos in okt.pos(sentence) if pos == 'Noun' and word not in stopwords]\n",
        "\n",
        "# # 단어 빈도 계산\n",
        "# word_freq = Counter(filtered_nouns)\n",
        "\n",
        "# # 워드 클라우드를 생성합니다.\n",
        "# font_path = '/content/drive/MyDrive/ColabNotebooks/NanumBarunpenR.ttf'  # 나눔 폰트 경로\n",
        "# wordcloud = WordCloud(width=800, height=800,\n",
        "#                       background_color='white',\n",
        "#                       min_font_size=10,\n",
        "#                       font_path=font_path).generate_from_frequencies(word_freq)\n",
        "\n",
        "# # 생성된 워드 클라우드를 matplotlib를 사용하여 표시합니다.\n",
        "# plt.figure(figsize=(8, 8), facecolor=None)\n",
        "# plt.imshow(wordcloud, interpolation='bilinear')\n",
        "# plt.axis(\"off\")\n",
        "# plt.tight_layout(pad=0)\n",
        "\n",
        "# # 워드 클라우드 플롯 표시\n",
        "# plt.title('word cloud')\n",
        "# plt.show()\n"
      ]
    }
  ],
  "metadata": {
    "accelerator": "GPU",
    "colab": {
      "provenance": [],
      "gpuType": "T4",
      "mount_file_id": "1lfibOBT7pxtseMky-p5Sj5I0jDUMHUYe",
      "authorship_tag": "ABX9TyOOFwd9uJBRiooyuD4yInQ/",
      "include_colab_link": true
    },
    "kernelspec": {
      "display_name": "Python 3",
      "name": "python3"
    },
    "language_info": {
      "name": "python"
    }
  },
  "nbformat": 4,
  "nbformat_minor": 0
}